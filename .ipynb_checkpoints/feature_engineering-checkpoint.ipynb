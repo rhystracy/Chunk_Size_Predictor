{
 "cells": [
  {
   "cell_type": "code",
   "execution_count": 1,
   "id": "aa08f381",
   "metadata": {},
   "outputs": [
    {
     "name": "stdout",
     "output_type": "stream",
     "text": [
      "[   2906    3871    2923     340    3019     311     313     311     380\n",
      "     311     313    3019     311     313     311     313     656 1348485\n",
      "  849912    2837  124840     627    8067 1423504     389     574 2026255\n",
      "  239164     320  622992    3081     390     325     502  636520 1974408\n",
      "     460  627481     443  626513 1899472     328  618240     325     667\n",
      " 1870808  618513     330    3856  622462 1891731     395     330  652237\n",
      "    4265 1900667     311  614041     313 1912336     311  610071     313\n",
      "  613458 2108578     315  603034    3086     313 1894289  597218     313\n",
      "     311  475857     315  600065     311     313    2958     311     313\n",
      "     311     313   18804     206 1453582   34117    2775  119756     321\n",
      "   21718     389     768    1172     615     322    3128     393     469\n",
      "     327     325     513     330     495     326     330    3860     326\n",
      "     330  535345 1707660    3019     311  366966  570669     313     311\n",
      "     380     311     313    3019     311     313     859]\n",
      "(124,)\n"
     ]
    },
    {
     "data": {
      "text/plain": [
       "'\\nchunk_size_data = []\\n\\nchunk_size = 0\\ninit = 1\\n#prev_start_time = 0\\nfor i in range(len(df)):\\n    if(df[\\'Info\\'][i] != \"Protected Payload (KP0)\"):\\n        if(df[\\'Info\\'][i].startswith(\"Initial\")): #new chunk\\n            if(init == 1):\\n                continue\\n            chunk_size_data.append(chunk_size)\\n            chunk_size = 0\\n                \\n        continue\\n        df = df[df[\\'Destination\\'] == client]\\n    if(df[\\'Info\\'][i] == \"Protected Payload (KP0)\" and df[\\'Destination\\'][i] == client):\\n        if(init == 1):\\n            init = 0\\n        chunk_size += int(df[\\'Length\\'][i])\\n\\nchunk_size_data=np.asarray(chunk_size_data)\\nprint(chunk_size_data)\\nprint(chunk_size_data.shape)\\n'"
      ]
     },
     "execution_count": 1,
     "metadata": {},
     "output_type": "execute_result"
    }
   ],
   "source": [
    "import time\n",
    "import numpy as np\n",
    "import pandas as pd\n",
    "import tensorflow as tf\n",
    "import keras\n",
    "\n",
    "timestr = time.strftime(\"%Y%m%d-%H%M%S\")\n",
    "df = pd.read_csv('data/example_pcap.csv')\n",
    "\n",
    "#dataset = pd.get_dummies(dataset)\n",
    "#dataset = dataset.replace(np.nan, 0)\n",
    "#dataset = dataset.to_numpy()\n",
    "\n",
    "df = df[df['Protocol'] == \"QUIC\"] #only need quic packets bc these are the only packets for the video\n",
    "\n",
    "df = df.reset_index(drop=True) #reset df indices after dropping rows\n",
    "\n",
    "client = df['Source'][0] #client sends first request to server\n",
    "\n",
    "df = df[df['Destination'] == client] #only look at packets incoming to the client\n",
    "\n",
    "df = df.reset_index(drop=True) #reset df indices after dropping rows\n",
    "\n",
    "#print(df)\n",
    "\n",
    "\n",
    "#go through and calculate chunk sizes\n",
    "\n",
    "chunk_size_data = []\n",
    "\n",
    "chunk_size = 0\n",
    "init = 1\n",
    "prev_start_time = 0\n",
    "for i in range(len(df)):\n",
    "    if(df['Info'][i] != \"Protected Payload (KP0)\"):\n",
    "        continue\n",
    "    else:\n",
    "        if(prev_start_time == 0):\n",
    "            prev_start_time = df['Time'][i]\n",
    "        if(df['Time'][i]>prev_start_time + 0.3): #more than 0.3s since last packet, means new chunk\n",
    "            chunk_size_data.append(chunk_size)\n",
    "            chunk_size = 0\n",
    "            prev_start_time = df['Time'][i]\n",
    "        chunk_size += int(df['Length'][i])\n",
    "        prev_start_time = df['Time'][i]\n",
    "\n",
    "chunk_size_data=np.asarray(chunk_size_data)\n",
    "print(chunk_size_data)\n",
    "print(chunk_size_data.shape)\n",
    "\n",
    "\n",
    "\n",
    "#detect new chunk on special packet - not possible\n",
    "'''\n",
    "chunk_size_data = []\n",
    "\n",
    "chunk_size = 0\n",
    "init = 1\n",
    "#prev_start_time = 0\n",
    "for i in range(len(df)):\n",
    "    if(df['Info'][i] != \"Protected Payload (KP0)\"):\n",
    "        if(df['Info'][i].startswith(\"Initial\")): #new chunk\n",
    "            if(init == 1):\n",
    "                continue\n",
    "            chunk_size_data.append(chunk_size)\n",
    "            chunk_size = 0\n",
    "                \n",
    "        continue\n",
    "        df = df[df['Destination'] == client]\n",
    "    if(df['Info'][i] == \"Protected Payload (KP0)\" and df['Destination'][i] == client):\n",
    "        if(init == 1):\n",
    "            init = 0\n",
    "        chunk_size += int(df['Length'][i])\n",
    "\n",
    "chunk_size_data=np.asarray(chunk_size_data)\n",
    "print(chunk_size_data)\n",
    "print(chunk_size_data.shape)\n",
    "'''"
   ]
  },
  {
   "cell_type": "code",
   "execution_count": null,
   "id": "9b9c7ace",
   "metadata": {},
   "outputs": [],
   "source": []
  }
 ],
 "metadata": {
  "kernelspec": {
   "display_name": "Python 3 (ipykernel)",
   "language": "python",
   "name": "python3"
  },
  "language_info": {
   "codemirror_mode": {
    "name": "ipython",
    "version": 3
   },
   "file_extension": ".py",
   "mimetype": "text/x-python",
   "name": "python",
   "nbconvert_exporter": "python",
   "pygments_lexer": "ipython3",
   "version": "3.9.7"
  }
 },
 "nbformat": 4,
 "nbformat_minor": 5
}
