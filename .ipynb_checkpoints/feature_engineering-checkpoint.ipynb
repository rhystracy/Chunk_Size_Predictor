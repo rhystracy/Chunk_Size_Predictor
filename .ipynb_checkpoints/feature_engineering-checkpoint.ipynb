{
 "cells": [
  {
   "cell_type": "code",
   "execution_count": 1,
   "id": "aa08f381",
   "metadata": {},
   "outputs": [
    {
     "data": {
      "text/plain": [
       "'\\nchunk_size_data = []\\n\\nchunk_size = 0\\ninit = 1\\n#prev_start_time = 0\\nfor i in range(len(df)):\\n    if(df[\\'Info\\'][i] != \"Protected Payload (KP0)\"):\\n        if(df[\\'Info\\'][i].startswith(\"Initial\")): #new chunk\\n            if(init == 1):\\n                continue\\n            chunk_size_data.append(chunk_size)\\n            chunk_size = 0\\n                \\n        continue\\n        df = df[df[\\'Destination\\'] == client]\\n    if(df[\\'Info\\'][i] == \"Protected Payload (KP0)\" and df[\\'Destination\\'][i] == client):\\n        if(init == 1):\\n            init = 0\\n        chunk_size += int(df[\\'Length\\'][i])\\n\\nchunk_size_data=np.asarray(chunk_size_data)\\nprint(chunk_size_data)\\nprint(chunk_size_data.shape)\\n'"
      ]
     },
     "execution_count": 1,
     "metadata": {},
     "output_type": "execute_result"
    }
   ],
   "source": [
    "import time\n",
    "import numpy as np\n",
    "import pandas as pd\n",
    "import tensorflow as tf\n",
    "import keras\n",
    "\n",
    "timestr = time.strftime(\"%Y%m%d-%H%M%S\")\n",
    "df = pd.read_csv('data/example_pcap3.csv')\n",
    "\n",
    "#dataset = pd.get_dummies(dataset)\n",
    "#dataset = dataset.replace(np.nan, 0)\n",
    "#dataset = dataset.to_numpy()\n",
    "\n",
    "df = df[df[\"quic\"] == \"quic\"] #only need quic packets bc these are the only packets for the video\n",
    "\n",
    "df = df.reset_index(drop=True) #reset df indices after dropping rows\n",
    "\n",
    "client = df['ip.src'][0] #client sends first request to server\n",
    "\n",
    "df = df[df['ip.dst'] == client] #only look at packets incoming to the client\n",
    "\n",
    "df = df.reset_index(drop=True) #reset df indices after dropping rows\n",
    "\n",
    "\n",
    "#go through and calculate chunk sizes\n",
    "\n",
    "chunk_size_data = []\n",
    "\n",
    "chunk_size = 0\n",
    "init = 1\n",
    "prev_start_time = 0\n",
    "for i in range(len(df)):\n",
    "    if(\"tls\" in df['frame.protocols']):\n",
    "        continue\n",
    "    else:\n",
    "        if(prev_start_time == 0):\n",
    "            prev_start_time = df['frame.time_relative'][i]\n",
    "        if(df['frame.time_relative'][i]>prev_start_time + 1): #more than 0.3s since last packet, means new chunk\n",
    "            chunk_size_data.append(chunk_size)\n",
    "            chunk_size = 0\n",
    "            prev_start_time = df['frame.time_relative'][i]\n",
    "        chunk_size += int(df['frame.len'][i])\n",
    "        prev_start_time = df['frame.time_relative'][i]\n",
    "\n",
    "chunk_size_data=np.asarray(chunk_size_data)\n",
    "\n",
    "\n",
    "\n",
    "#detect new chunk on special packet - not possible\n",
    "'''\n",
    "chunk_size_data = []\n",
    "\n",
    "chunk_size = 0\n",
    "init = 1\n",
    "#prev_start_time = 0\n",
    "for i in range(len(df)):\n",
    "    if(df['Info'][i] != \"Protected Payload (KP0)\"):\n",
    "        if(df['Info'][i].startswith(\"Initial\")): #new chunk\n",
    "            if(init == 1):\n",
    "                continue\n",
    "            chunk_size_data.append(chunk_size)\n",
    "            chunk_size = 0\n",
    "                \n",
    "        continue\n",
    "        df = df[df['Destination'] == client]\n",
    "    if(df['Info'][i] == \"Protected Payload (KP0)\" and df['Destination'][i] == client):\n",
    "        if(init == 1):\n",
    "            init = 0\n",
    "        chunk_size += int(df['Length'][i])\n",
    "\n",
    "chunk_size_data=np.asarray(chunk_size_data)\n",
    "print(chunk_size_data)\n",
    "print(chunk_size_data.shape)\n",
    "'''"
   ]
  },
  {
   "cell_type": "code",
   "execution_count": 2,
   "id": "5b953306",
   "metadata": {},
   "outputs": [
    {
     "name": "stdout",
     "output_type": "stream",
     "text": [
      "[   8104   17716 2369474 4209494  371973    8315 1795187  399179 1798123\n",
      "  383424  426071 1779323  303586  535608    8367 2521968 5285118  547180\n",
      " 1906163    8579  325722  559155   83731 2316099  549036  149254  487696\n",
      "  137801  165913  810134  144870  174192  156906  161390  140332  503352\n",
      "  141924  148979  150593  151028  155004  647986  158236  165683  153215\n",
      "  165459  157419  659753  135118  158572  149883  161162  150706  658131\n",
      "  147038  151589  144830  156346  152609  472325  137380  120876   93466\n",
      "   82610 1731651   33229 1524535  691156  845773 1565894  656325 1396023\n",
      "  682034 1363941  668957 2188825  683748 1450717  665700 1394531  681915\n",
      " 1357276  665677 1433052  653472  674455 1289235  664315 1329816  268728\n",
      "   90409 2238447 2693610 3811710 1864588    8530 1879263  819000 1891722\n",
      " 1885260  811890 1862502 1908547  806494 1721036 1753365 2570706 1886428\n",
      " 2138658 1872353 1934777 1911581 2103866 1886392 2386405 1754571  141517\n",
      " 2844649 3342825  512103    8273 1927897  479658 2004433  496537 1854829\n",
      " 1867075  528959 1826217  506667  163407 1602851  616387 3086593 1211281\n",
      "    9269  489431  613290 1314897 3116597 3188261 1184723 2142303  370946\n",
      " 1195720    8406  489916 2616032  481668  368551 1772027 1902667  367191\n",
      "  497457 1263753 2092424  495740  373713  498600 2869524  153897  507732\n",
      "  290775 1342081  515162 1163100  485266  491265 1230180  489534   17486\n",
      " 2831139  716085 1188043  491070  776818    5632    6870  284880   18855\n",
      "   39378 2303476 4726606    5345 2159324  594810 1913978  685070 2164685\n",
      "  527051 2166143  583247 2028633  574979 1924032  526644 2099005  541255\n",
      " 1070694  329662 2371294 1431571 2265419  622992    8639  636520 1974408\n",
      "  627481  626513 1899472  618240 1870808  618513  622462 1891731  652237\n",
      " 1900667  614041 1912336  610071  618626 2108578  603034 1894289  597218\n",
      "  481025  600065   18804 2316286 3322915 1192696    8296 2142855 1893178\n",
      "  508023 1838255  520477 1898518 1917557  540513 1707660  366966  570669]\n",
      "(243,)\n"
     ]
    }
   ],
   "source": [
    "i=0\n",
    "while(i<chunk_size_data.shape[0]):\n",
    "    if chunk_size_data[i]<5000:\n",
    "        chunk_size_data = np.delete(chunk_size_data, [i], 0)\n",
    "    else:\n",
    "        i+=1\n",
    "print(chunk_size_data)\n",
    "print(chunk_size_data.shape)"
   ]
  },
  {
   "cell_type": "code",
   "execution_count": null,
   "id": "96c03d7e",
   "metadata": {},
   "outputs": [],
   "source": []
  }
 ],
 "metadata": {
  "kernelspec": {
   "display_name": "Python 3 (ipykernel)",
   "language": "python",
   "name": "python3"
  },
  "language_info": {
   "codemirror_mode": {
    "name": "ipython",
    "version": 3
   },
   "file_extension": ".py",
   "mimetype": "text/x-python",
   "name": "python",
   "nbconvert_exporter": "python",
   "pygments_lexer": "ipython3",
   "version": "3.9.7"
  }
 },
 "nbformat": 4,
 "nbformat_minor": 5
}
