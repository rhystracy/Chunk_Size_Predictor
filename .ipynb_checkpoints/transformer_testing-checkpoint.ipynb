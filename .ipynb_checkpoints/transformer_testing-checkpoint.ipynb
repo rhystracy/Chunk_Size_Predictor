{
 "cells": [
  {
   "cell_type": "code",
   "execution_count": 1,
   "id": "c9b9657f",
   "metadata": {
    "scrolled": true
   },
   "outputs": [
    {
     "name": "stdout",
     "output_type": "stream",
     "text": [
      "(123,)\n"
     ]
    },
    {
     "data": {
      "text/plain": [
       "'\\ntimestr = time.strftime(\"%Y%m%d-%H%M%S\")\\ndataset = pd.read_csv(\\'new_data/dataset_full.csv\\')\\n\\ndataset = pd.get_dummies(dataset)\\nsaved_cols = dataset.columns\\nace_col=0\\nfor col in dataset.columns:\\n    if(col == \\'win_reason_ace\\'):\\n        break\\n    ace_col+=1\\ndataset = dataset.replace(np.nan, 0)\\ndataset = dataset.to_numpy()\\n\\ndata = []\\ntargets = []\\n\\ni=0\\nwhile(i<int(dataset.shape[0])):\\n    data.append([])\\n    i+=1\\ni=0\\nwhile(i<dataset.shape[0]):\\n    \\n    ball_round = list()\\n    j=1\\n    while(j<dataset.shape[1]-2):\\n        ball_round.append(dataset[i,j])\\n        j+=1\\n    targets.append(dataset[i,j]) #team a wins label column\\n    \\n    data[i] = ball_round\\n    \\n    i+=1\\n\\n#print(np.asarray(data))\\ndata=np.asarray(data)\\ntargets=np.asarray(targets)\\n#targets = targets.reshape(-1,1)\\n\\nprint(data.shape)'"
      ]
     },
     "execution_count": 1,
     "metadata": {},
     "output_type": "execute_result"
    }
   ],
   "source": [
    "import numpy as np\n",
    "import tensorflow as tf\n",
    "import keras\n",
    "from feature_engineering import make_dataset\n",
    "\n",
    "data, targets = make_dataset()\n",
    "\n",
    "print(data.shape)\n",
    "\n",
    "'''\n",
    "timestr = time.strftime(\"%Y%m%d-%H%M%S\")\n",
    "dataset = pd.read_csv('new_data/dataset_full.csv')\n",
    "\n",
    "dataset = pd.get_dummies(dataset)\n",
    "saved_cols = dataset.columns\n",
    "ace_col=0\n",
    "for col in dataset.columns:\n",
    "    if(col == 'win_reason_ace'):\n",
    "        break\n",
    "    ace_col+=1\n",
    "dataset = dataset.replace(np.nan, 0)\n",
    "dataset = dataset.to_numpy()\n",
    "\n",
    "data = []\n",
    "targets = []\n",
    "\n",
    "i=0\n",
    "while(i<int(dataset.shape[0])):\n",
    "    data.append([])\n",
    "    i+=1\n",
    "i=0\n",
    "while(i<dataset.shape[0]):\n",
    "    \n",
    "    ball_round = list()\n",
    "    j=1\n",
    "    while(j<dataset.shape[1]-2):\n",
    "        ball_round.append(dataset[i,j])\n",
    "        j+=1\n",
    "    targets.append(dataset[i,j]) #team a wins label column\n",
    "    \n",
    "    data[i] = ball_round\n",
    "    \n",
    "    i+=1\n",
    "\n",
    "#print(np.asarray(data))\n",
    "data=np.asarray(data)\n",
    "targets=np.asarray(targets)\n",
    "#targets = targets.reshape(-1,1)\n",
    "\n",
    "print(data.shape)'''"
   ]
  },
  {
   "cell_type": "code",
   "execution_count": null,
   "id": "0c022b50",
   "metadata": {
    "scrolled": false
   },
   "outputs": [],
   "source": []
  },
  {
   "cell_type": "code",
   "execution_count": 2,
   "id": "40600f5c",
   "metadata": {
    "scrolled": true
   },
   "outputs": [],
   "source": [
    "split_point = int(0.9*data.shape[0])\n",
    "\n",
    "train_x = data[0:split_point]\n",
    "train_y = targets[0:split_point]\n",
    "\n",
    "train_x = train_x.reshape((train_x.shape[0], 1, 1))\n",
    "train_y = train_y.reshape(-1,1)"
   ]
  },
  {
   "cell_type": "code",
   "execution_count": 3,
   "id": "118a49e9",
   "metadata": {
    "scrolled": true
   },
   "outputs": [],
   "source": [
    "def encoder(inputs, head_size, num_heads, ff_dim, dropout=0): #normalize, attention, normalize, feedforward, normalize\n",
    "    # Normalization and Attention\n",
    "    #mask = np.ones((inputs.shape[1],1))\n",
    "    #mask[56:] = 0\n",
    "    #inputs = tf.boolean_mask(inputs, mask, axis=None, name='boolean_mask')\n",
    "    x = tf.keras.layers.LayerNormalization(epsilon=1e-6)(inputs)\n",
    "    x = tf.keras.layers.MultiHeadAttention(\n",
    "        key_dim=head_size, num_heads=num_heads, dropout=dropout\n",
    "    )(x, x)\n",
    "    x = tf.keras.layers.Dropout(dropout)(x)\n",
    "    res = x + inputs\n",
    "\n",
    "    # Feed Forward Part\n",
    "    x = tf.keras.layers.LayerNormalization(epsilon=1e-6)(res)\n",
    "    x = tf.keras.layers.Conv1D(filters=ff_dim, kernel_size=1, activation=\"relu\")(x)\n",
    "    x = tf.keras.layers.Dropout(dropout)(x)\n",
    "    x = tf.keras.layers.Conv1D(filters=inputs.shape[-1], kernel_size=1)(x)\n",
    "    \n",
    "    normalized_out = x + res\n",
    "    return normalized_out\n"
   ]
  },
  {
   "cell_type": "code",
   "execution_count": 4,
   "id": "4bdb9294",
   "metadata": {
    "scrolled": true
   },
   "outputs": [],
   "source": [
    "def build_model(\n",
    "    input_shape,\n",
    "    head_size,\n",
    "    num_heads,\n",
    "    ff_dim,\n",
    "    num_transformer_blocks,\n",
    "    mlp_units,\n",
    "    dropout=0,\n",
    "    mlp_dropout=0,\n",
    "):\n",
    "    inputs = tf.keras.Input(shape=input_shape)\n",
    "    x = inputs\n",
    "    for _ in range(num_transformer_blocks):\n",
    "        x = encoder(x, head_size, num_heads, ff_dim, dropout)\n",
    "\n",
    "    x = tf.keras.layers.GlobalAveragePooling1D(data_format=\"channels_first\")(x)\n",
    "    for dim in mlp_units:\n",
    "        x = tf.keras.layers.Dense(dim, activation=\"relu\")(x)\n",
    "        x = tf.keras.layers.Dropout(mlp_dropout)(x)\n",
    "    outputs = tf.keras.layers.Dense(1, activation=\"sigmoid\")(x)\n",
    "    return tf.keras.Model(inputs, outputs)\n"
   ]
  },
  {
   "cell_type": "code",
   "execution_count": 5,
   "id": "ba7c1501",
   "metadata": {
    "scrolled": true
   },
   "outputs": [
    {
     "name": "stdout",
     "output_type": "stream",
     "text": [
      "Model: \"model\"\n",
      "__________________________________________________________________________________________________\n",
      " Layer (type)                   Output Shape         Param #     Connected to                     \n",
      "==================================================================================================\n",
      " input_1 (InputLayer)           [(None, 1, 1)]       0           []                               \n",
      "                                                                                                  \n",
      " layer_normalization (LayerNorm  (None, 1, 1)        2           ['input_1[0][0]']                \n",
      " alization)                                                                                       \n",
      "                                                                                                  \n",
      " multi_head_attention (MultiHea  (None, 1, 1)        7169        ['layer_normalization[0][0]',    \n",
      " dAttention)                                                      'layer_normalization[0][0]']    \n",
      "                                                                                                  \n",
      " dropout (Dropout)              (None, 1, 1)         0           ['multi_head_attention[0][0]']   \n",
      "                                                                                                  \n",
      " tf.__operators__.add (TFOpLamb  (None, 1, 1)        0           ['dropout[0][0]',                \n",
      " da)                                                              'input_1[0][0]']                \n",
      "                                                                                                  \n",
      " layer_normalization_1 (LayerNo  (None, 1, 1)        2           ['tf.__operators__.add[0][0]']   \n",
      " rmalization)                                                                                     \n",
      "                                                                                                  \n",
      " conv1d (Conv1D)                (None, 1, 4)         8           ['layer_normalization_1[0][0]']  \n",
      "                                                                                                  \n",
      " dropout_1 (Dropout)            (None, 1, 4)         0           ['conv1d[0][0]']                 \n",
      "                                                                                                  \n",
      " conv1d_1 (Conv1D)              (None, 1, 1)         5           ['dropout_1[0][0]']              \n",
      "                                                                                                  \n",
      " tf.__operators__.add_1 (TFOpLa  (None, 1, 1)        0           ['conv1d_1[0][0]',               \n",
      " mbda)                                                            'tf.__operators__.add[0][0]']   \n",
      "                                                                                                  \n",
      " layer_normalization_2 (LayerNo  (None, 1, 1)        2           ['tf.__operators__.add_1[0][0]'] \n",
      " rmalization)                                                                                     \n",
      "                                                                                                  \n",
      " multi_head_attention_1 (MultiH  (None, 1, 1)        7169        ['layer_normalization_2[0][0]',  \n",
      " eadAttention)                                                    'layer_normalization_2[0][0]']  \n",
      "                                                                                                  \n",
      " dropout_2 (Dropout)            (None, 1, 1)         0           ['multi_head_attention_1[0][0]'] \n",
      "                                                                                                  \n",
      " tf.__operators__.add_2 (TFOpLa  (None, 1, 1)        0           ['dropout_2[0][0]',              \n",
      " mbda)                                                            'tf.__operators__.add_1[0][0]'] \n",
      "                                                                                                  \n",
      " layer_normalization_3 (LayerNo  (None, 1, 1)        2           ['tf.__operators__.add_2[0][0]'] \n",
      " rmalization)                                                                                     \n",
      "                                                                                                  \n",
      " conv1d_2 (Conv1D)              (None, 1, 4)         8           ['layer_normalization_3[0][0]']  \n",
      "                                                                                                  \n",
      " dropout_3 (Dropout)            (None, 1, 4)         0           ['conv1d_2[0][0]']               \n",
      "                                                                                                  \n",
      " conv1d_3 (Conv1D)              (None, 1, 1)         5           ['dropout_3[0][0]']              \n",
      "                                                                                                  \n",
      " tf.__operators__.add_3 (TFOpLa  (None, 1, 1)        0           ['conv1d_3[0][0]',               \n",
      " mbda)                                                            'tf.__operators__.add_2[0][0]'] \n",
      "                                                                                                  \n",
      " layer_normalization_4 (LayerNo  (None, 1, 1)        2           ['tf.__operators__.add_3[0][0]'] \n",
      " rmalization)                                                                                     \n",
      "                                                                                                  \n",
      " multi_head_attention_2 (MultiH  (None, 1, 1)        7169        ['layer_normalization_4[0][0]',  \n",
      " eadAttention)                                                    'layer_normalization_4[0][0]']  \n",
      "                                                                                                  \n",
      " dropout_4 (Dropout)            (None, 1, 1)         0           ['multi_head_attention_2[0][0]'] \n",
      "                                                                                                  \n",
      " tf.__operators__.add_4 (TFOpLa  (None, 1, 1)        0           ['dropout_4[0][0]',              \n",
      " mbda)                                                            'tf.__operators__.add_3[0][0]'] \n",
      "                                                                                                  \n",
      " layer_normalization_5 (LayerNo  (None, 1, 1)        2           ['tf.__operators__.add_4[0][0]'] \n",
      " rmalization)                                                                                     \n",
      "                                                                                                  \n",
      " conv1d_4 (Conv1D)              (None, 1, 4)         8           ['layer_normalization_5[0][0]']  \n",
      "                                                                                                  \n",
      " dropout_5 (Dropout)            (None, 1, 4)         0           ['conv1d_4[0][0]']               \n",
      "                                                                                                  \n",
      " conv1d_5 (Conv1D)              (None, 1, 1)         5           ['dropout_5[0][0]']              \n",
      "                                                                                                  \n",
      " tf.__operators__.add_5 (TFOpLa  (None, 1, 1)        0           ['conv1d_5[0][0]',               \n",
      " mbda)                                                            'tf.__operators__.add_4[0][0]'] \n",
      "                                                                                                  \n",
      " layer_normalization_6 (LayerNo  (None, 1, 1)        2           ['tf.__operators__.add_5[0][0]'] \n",
      " rmalization)                                                                                     \n",
      "                                                                                                  \n",
      " multi_head_attention_3 (MultiH  (None, 1, 1)        7169        ['layer_normalization_6[0][0]',  \n",
      " eadAttention)                                                    'layer_normalization_6[0][0]']  \n",
      "                                                                                                  \n",
      " dropout_6 (Dropout)            (None, 1, 1)         0           ['multi_head_attention_3[0][0]'] \n",
      "                                                                                                  \n",
      " tf.__operators__.add_6 (TFOpLa  (None, 1, 1)        0           ['dropout_6[0][0]',              \n"
     ]
    },
    {
     "name": "stdout",
     "output_type": "stream",
     "text": [
      " mbda)                                                            'tf.__operators__.add_5[0][0]'] \n",
      "                                                                                                  \n",
      " layer_normalization_7 (LayerNo  (None, 1, 1)        2           ['tf.__operators__.add_6[0][0]'] \n",
      " rmalization)                                                                                     \n",
      "                                                                                                  \n",
      " conv1d_6 (Conv1D)              (None, 1, 4)         8           ['layer_normalization_7[0][0]']  \n",
      "                                                                                                  \n",
      " dropout_7 (Dropout)            (None, 1, 4)         0           ['conv1d_6[0][0]']               \n",
      "                                                                                                  \n",
      " conv1d_7 (Conv1D)              (None, 1, 1)         5           ['dropout_7[0][0]']              \n",
      "                                                                                                  \n",
      " tf.__operators__.add_7 (TFOpLa  (None, 1, 1)        0           ['conv1d_7[0][0]',               \n",
      " mbda)                                                            'tf.__operators__.add_6[0][0]'] \n",
      "                                                                                                  \n",
      " global_average_pooling1d (Glob  (None, 1)           0           ['tf.__operators__.add_7[0][0]'] \n",
      " alAveragePooling1D)                                                                              \n",
      "                                                                                                  \n",
      " dense (Dense)                  (None, 128)          256         ['global_average_pooling1d[0][0]'\n",
      "                                                                 ]                                \n",
      "                                                                                                  \n",
      " dropout_8 (Dropout)            (None, 128)          0           ['dense[0][0]']                  \n",
      "                                                                                                  \n",
      " dense_1 (Dense)                (None, 1)            129         ['dropout_8[0][0]']              \n",
      "                                                                                                  \n",
      "==================================================================================================\n",
      "Total params: 29,129\n",
      "Trainable params: 29,129\n",
      "Non-trainable params: 0\n",
      "__________________________________________________________________________________________________\n",
      "Epoch 1/200\n",
      "3/3 [==============================] - 5s 346ms/step - loss: 526738554880.0000 - mean_absolute_error: 366916.4062 - val_loss: 145599889408.0000 - val_mean_absolute_error: 103611.9062\n",
      "Epoch 2/200\n",
      "3/3 [==============================] - 0s 165ms/step - loss: 526738489344.0000 - mean_absolute_error: 366916.3750 - val_loss: 145599889408.0000 - val_mean_absolute_error: 103611.9062\n",
      "Epoch 3/200\n",
      "3/3 [==============================] - 0s 102ms/step - loss: 526738522112.0000 - mean_absolute_error: 366916.3750 - val_loss: 145599889408.0000 - val_mean_absolute_error: 103611.9062\n",
      "Epoch 4/200\n",
      "3/3 [==============================] - 0s 23ms/step - loss: 526738423808.0000 - mean_absolute_error: 366916.3125 - val_loss: 145599889408.0000 - val_mean_absolute_error: 103611.9062\n",
      "Epoch 5/200\n",
      "3/3 [==============================] - 0s 19ms/step - loss: 526738391040.0000 - mean_absolute_error: 366916.2812 - val_loss: 145599889408.0000 - val_mean_absolute_error: 103611.9062\n",
      "Epoch 6/200\n",
      "3/3 [==============================] - 0s 31ms/step - loss: 526738423808.0000 - mean_absolute_error: 366916.3125 - val_loss: 145599889408.0000 - val_mean_absolute_error: 103611.9062\n",
      "Epoch 7/200\n",
      "3/3 [==============================] - 0s 23ms/step - loss: 526738423808.0000 - mean_absolute_error: 366916.2812 - val_loss: 145599889408.0000 - val_mean_absolute_error: 103611.9062\n",
      "Epoch 8/200\n",
      "3/3 [==============================] - 0s 21ms/step - loss: 526738391040.0000 - mean_absolute_error: 366916.1875 - val_loss: 145599889408.0000 - val_mean_absolute_error: 103611.9062\n",
      "Epoch 9/200\n",
      "3/3 [==============================] - 0s 24ms/step - loss: 526738292736.0000 - mean_absolute_error: 366916.0312 - val_loss: 145599889408.0000 - val_mean_absolute_error: 103611.9062\n",
      "Epoch 10/200\n",
      "3/3 [==============================] - 0s 31ms/step - loss: 526738194432.0000 - mean_absolute_error: 366915.9688 - val_loss: 145599873024.0000 - val_mean_absolute_error: 103611.7734\n",
      "Epoch 11/200\n",
      "3/3 [==============================] - 0s 23ms/step - loss: 526738128896.0000 - mean_absolute_error: 366915.9688 - val_loss: 145599692800.0000 - val_mean_absolute_error: 103610.9062\n",
      "Epoch 12/200\n",
      "3/3 [==============================] - 0s 24ms/step - loss: 526738128896.0000 - mean_absolute_error: 366915.7812 - val_loss: 145599692800.0000 - val_mean_absolute_error: 103610.9062\n",
      "Epoch 13/200\n",
      "3/3 [==============================] - 0s 23ms/step - loss: 526738128896.0000 - mean_absolute_error: 366915.7188 - val_loss: 145599692800.0000 - val_mean_absolute_error: 103610.9062\n",
      "Epoch 14/200\n",
      "3/3 [==============================] - 0s 24ms/step - loss: 526738128896.0000 - mean_absolute_error: 366915.7812 - val_loss: 145599692800.0000 - val_mean_absolute_error: 103610.9062\n",
      "Epoch 15/200\n",
      "3/3 [==============================] - 0s 23ms/step - loss: 526737965056.0000 - mean_absolute_error: 366915.6250 - val_loss: 145599692800.0000 - val_mean_absolute_error: 103610.9062\n",
      "Epoch 16/200\n",
      "3/3 [==============================] - 0s 23ms/step - loss: 526737899520.0000 - mean_absolute_error: 366915.6250 - val_loss: 145599692800.0000 - val_mean_absolute_error: 103610.9062\n",
      "Epoch 17/200\n",
      "3/3 [==============================] - 0s 24ms/step - loss: 526737899520.0000 - mean_absolute_error: 366915.6562 - val_loss: 145599692800.0000 - val_mean_absolute_error: 103610.9062\n",
      "Epoch 18/200\n",
      "3/3 [==============================] - 0s 23ms/step - loss: 526737899520.0000 - mean_absolute_error: 366915.5938 - val_loss: 145599692800.0000 - val_mean_absolute_error: 103610.9062\n",
      "Epoch 19/200\n",
      "3/3 [==============================] - 0s 23ms/step - loss: 526737899520.0000 - mean_absolute_error: 366915.5625 - val_loss: 145599692800.0000 - val_mean_absolute_error: 103610.9062\n",
      "Epoch 20/200\n",
      "3/3 [==============================] - 0s 31ms/step - loss: 526737866752.0000 - mean_absolute_error: 366915.5312 - val_loss: 145599692800.0000 - val_mean_absolute_error: 103610.9062\n",
      "Epoch 21/200\n",
      "3/3 [==============================] - 0s 31ms/step - loss: 526738096128.0000 - mean_absolute_error: 366915.6250 - val_loss: 145599692800.0000 - val_mean_absolute_error: 103610.9062\n"
     ]
    },
    {
     "data": {
      "text/plain": [
       "<keras.callbacks.History at 0x26ac9c16520>"
      ]
     },
     "execution_count": 5,
     "metadata": {},
     "output_type": "execute_result"
    }
   ],
   "source": [
    "input_shape = (1,1)\n",
    "\n",
    "model = build_model(\n",
    "    input_shape,\n",
    "    head_size=256,\n",
    "    num_heads=4,\n",
    "    ff_dim=4,\n",
    "    num_transformer_blocks=4,\n",
    "    mlp_units=[128],\n",
    "    mlp_dropout=0.4,\n",
    "    dropout=0.25,\n",
    ")\n",
    "\n",
    "model.compile(loss=tf.losses.MeanSquaredError(),\n",
    "                optimizer=tf.optimizers.Adam(),\n",
    "                metrics=[tf.metrics.MeanAbsoluteError()])\n",
    "model.summary()\n",
    "\n",
    "callbacks = [keras.callbacks.EarlyStopping(patience=10, restore_best_weights=True)]\n",
    "\n",
    "model.fit(\n",
    "    train_x,\n",
    "    train_y,\n",
    "    validation_split=0.2,\n",
    "    epochs=200,\n",
    "    batch_size=32,\n",
    "    callbacks=callbacks,\n",
    ")\n",
    "#model.evaluate(x_test, y_test, verbose=1)\n"
   ]
  },
  {
   "cell_type": "code",
   "execution_count": 6,
   "id": "7a40a5bf",
   "metadata": {
    "scrolled": true
   },
   "outputs": [],
   "source": [
    "#test results"
   ]
  },
  {
   "cell_type": "code",
   "execution_count": 7,
   "id": "809e8cb0",
   "metadata": {
    "scrolled": true
   },
   "outputs": [],
   "source": [
    "test_x = data[split_point:]\n",
    "test_y = targets[split_point:]\n",
    "\n",
    "test_x = test_x.reshape((test_x.shape[0], 1, 1))\n",
    "test_y = test_y.reshape(-1,1)"
   ]
  },
  {
   "cell_type": "code",
   "execution_count": 8,
   "id": "8614dd22",
   "metadata": {
    "scrolled": true
   },
   "outputs": [
    {
     "name": "stdout",
     "output_type": "stream",
     "text": [
      "1/1 [==============================] - 0s 35ms/step - loss: 35411156992.0000 - mean_absolute_error: 72852.4609\n"
     ]
    },
    {
     "data": {
      "text/plain": [
       "'\\nval_pred = model.predict(x=test_x)\\nval_pred = val_pred.reshape(val_pred.shape[0])\\nval_true = test_y\\nprint(\"\")\\nprint(\"Validation Brier Score:\")\\nprint(brier_score_loss(y_true=val_true, y_prob=val_pred))\\n'"
      ]
     },
     "execution_count": 8,
     "metadata": {},
     "output_type": "execute_result"
    }
   ],
   "source": [
    "evaluation = model.evaluate(test_x, test_y)\n",
    "\n",
    "'''\n",
    "val_pred = model.predict(x=test_x)\n",
    "val_pred = val_pred.reshape(val_pred.shape[0])\n",
    "val_true = test_y\n",
    "print(\"\")\n",
    "print(\"Validation Brier Score:\")\n",
    "print(brier_score_loss(y_true=val_true, y_prob=val_pred))\n",
    "'''"
   ]
  },
  {
   "cell_type": "code",
   "execution_count": null,
   "id": "e02449ce",
   "metadata": {},
   "outputs": [],
   "source": []
  }
 ],
 "metadata": {
  "kernelspec": {
   "display_name": "Python 3 (ipykernel)",
   "language": "python",
   "name": "python3"
  },
  "language_info": {
   "codemirror_mode": {
    "name": "ipython",
    "version": 3
   },
   "file_extension": ".py",
   "mimetype": "text/x-python",
   "name": "python",
   "nbconvert_exporter": "python",
   "pygments_lexer": "ipython3",
   "version": "3.9.7"
  }
 },
 "nbformat": 4,
 "nbformat_minor": 5
}
